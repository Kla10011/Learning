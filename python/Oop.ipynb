{
 "cells": [
  {
   "cell_type": "markdown",
   "metadata": {},
   "source": [
    "Oop = Object-oriented programming \n",
    "\n",
    "component of Oop is class and object\n",
    "\n",
    "class = archetype #แม่พิมพ์"
   ]
  },
  {
   "cell_type": "code",
   "execution_count": 1,
   "metadata": {},
   "outputs": [
    {
     "name": "stdout",
     "output_type": "stream",
     "text": [
      "<__main__.Player1 object at 0x00000205A0DB8CD0>\n",
      "phun\n",
      "phunhaha\n"
     ]
    }
   ],
   "source": [
    "# class Player: # ชื่อตัวหน้าต้องตัวใหญ่ เขียนได้ 3 แบบ\n",
    "# class Player(): \n",
    "# class Player(Object):\n",
    "class Player1: # ob inherit Player\n",
    "    def __init__(self): # dunder -> double underscores # self = method signature\n",
    "        self.fname = \"\" # instance/property\n",
    "        self.lname = \"\"\n",
    "        self.number = \"\"\n",
    "class Player2: # ob inherit Player\n",
    "    def __init__(self,fname,lname,number): #dunder -> double underscores\n",
    "        self.fname = fname\n",
    "        self.lname = lname\n",
    "        self.number = number\n",
    "\n",
    "if __name__ == '__main__':\n",
    "    p1 = Player1() # create new instance\n",
    "    p1.fname = \"kla\"\n",
    "    p1.lname = \"za\"\n",
    "    p1.number = 1\n",
    "    \n",
    "    p2 = Player2(\"phun\",\"haha\",18) # create new instance\n",
    "\n",
    "print(p1) # -> address object\n",
    "print(p2.fname) \n",
    "print(p2.fname+p2.lname)"
   ]
  },
  {
   "cell_type": "markdown",
   "metadata": {},
   "source": [
    "Example"
   ]
  },
  {
   "cell_type": "code",
   "execution_count": 2,
   "metadata": {},
   "outputs": [
    {
     "name": "stdout",
     "output_type": "stream",
     "text": [
      "print(A): Goal blue 36\n"
     ]
    }
   ],
   "source": [
    "class Dragon(): # 1\n",
    "    def __init__(self,name,age,colour):\n",
    "        self.name = name\n",
    "        self.age = age\n",
    "        self.colour = colour\n",
    "        pass\n",
    "def Dragonstar(): #conductor\n",
    "    A = Dragon(\"Goal\",36,\"blue\") \n",
    "    print(\"print(A):\",A.name,A.colour,A.age)\n",
    "if __name__ == '__main__':\n",
    "    Dragonstar()"
   ]
  },
  {
   "cell_type": "markdown",
   "metadata": {},
   "source": [
    "__init__() "
   ]
  },
  {
   "cell_type": "code",
   "execution_count": 3,
   "metadata": {},
   "outputs": [],
   "source": [
    "# switch between 2 with 3 ???Comment 2 or 3 to run\n",
    "# class Dragon(): # 2 \n",
    "#     def __init__(self):\n",
    "#         self.name = \"\"\n",
    "#         self.age = 0\n",
    "#         self.colour = \"\"\n",
    "#         pass\n",
    "# class Dragon(): # 3 come from the merge between 1 with 2. Use 2 ability\n",
    "#     def __init__(self,name=None,age=None,colour=None):\n",
    "#         self.name = name\n",
    "#         self.age = age\n",
    "#         self.colour = colour\n",
    "#         pass\n",
    "# if __name__ == '__main__':\n",
    "#     Dragonstar() # def Dragonstar() upper code\n",
    "#     B = Dragon(\"kla\",3,\"red\")\n",
    "#     print(\"print(B):\",B.name,B.age,B.colour)\n",
    "#     C = Dragon(\"print(C):\",\"kla\",3,\"red\")\n",
    "#     print(C)"
   ]
  },
  {
   "cell_type": "markdown",
   "metadata": {},
   "source": [
    "I want to print(C).But class return address. "
   ]
  },
  {
   "cell_type": "code",
   "execution_count": 4,
   "metadata": {},
   "outputs": [
    {
     "name": "stdout",
     "output_type": "stream",
     "text": [
      "print(A): Goal blue 36\n",
      "print(B): kla 3 red\n",
      "print(C): name:ice age:17 colour:green\n",
      "name:kla age:3 colour:red\n"
     ]
    }
   ],
   "source": [
    "# switch between 2,3 with 3+ ??? comment 2,3 to run\n",
    "class Dragon(): # 3+ Upgrade come from 3. Able print print(c)\n",
    "    def __init__(self,name=None,age=None,colour=None):\n",
    "        self.name = name\n",
    "        self.age = age\n",
    "        self.colour = colour\n",
    "    def __str__(self):\n",
    "        return \"name:{} age:{} colour:{}\".format(self.name, self.age,self.colour)\n",
    "if __name__ == '__main__':\n",
    "    Dragonstar() # def Dragonstar() upper code\n",
    "    B = Dragon(\"kla\",3,\"red\")\n",
    "    print(\"print(B):\",B.name,B.age,B.colour)\n",
    "    C = Dragon(age=17,colour=\"green\",name=\"ice\")\n",
    "    print(\"print(C):\",C)\n",
    "    print(B)"
   ]
  }
 ],
 "metadata": {
  "kernelspec": {
   "display_name": "Python 3.9.12 ('base')",
   "language": "python",
   "name": "python3"
  },
  "language_info": {
   "codemirror_mode": {
    "name": "ipython",
    "version": 3
   },
   "file_extension": ".py",
   "mimetype": "text/x-python",
   "name": "python",
   "nbconvert_exporter": "python",
   "pygments_lexer": "ipython3",
   "version": "3.9.12"
  },
  "orig_nbformat": 4,
  "vscode": {
   "interpreter": {
    "hash": "54e13ee9da5ae008a6da4edd52751a3f9166517d508afc8c01786f7987313f4d"
   }
  }
 },
 "nbformat": 4,
 "nbformat_minor": 2
}
